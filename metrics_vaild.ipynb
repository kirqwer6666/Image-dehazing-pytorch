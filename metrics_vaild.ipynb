{
 "cells": [
  {
   "cell_type": "code",
   "execution_count": 2,
   "metadata": {},
   "outputs": [
    {
     "name": "stdout",
     "output_type": "stream",
     "text": [
      "False\n"
     ]
    }
   ],
   "source": [
    "import torch\n",
    "print(torch.cuda.is_available())\n",
    "#ckp=torch.load('./trained_models/model1.pk')"
   ]
  },
  {
   "cell_type": "code",
   "execution_count": 10,
   "metadata": {},
   "outputs": [
    {
     "name": "stdout",
     "output_type": "stream",
     "text": [
      "0.91175224339962\n"
     ]
    }
   ],
   "source": [
    "print(ckp['max_ssim'])"
   ]
  },
  {
   "cell_type": "code",
   "execution_count": 11,
   "metadata": {},
   "outputs": [
    {
     "name": "stdout",
     "output_type": "stream",
     "text": [
      "26.20326491919333\n"
     ]
    }
   ],
   "source": [
    "print(ckp['max_psnr'])"
   ]
  },
  {
   "cell_type": "code",
   "execution_count": 7,
   "metadata": {},
   "outputs": [
    {
     "name": "stdout",
     "output_type": "stream",
     "text": [
      "[0.6192756408452987, 0.6278399763703346, 0.691395613849163, 0.7676982851028442, 0.7071660203933716, 0.8201861789226532, 0.8147404026985169, 0.8269714648723603, 0.8277249727249145, 0.8243631938695908, 0.8022547190189362, 0.8565624907016754, 0.8592211787700653, 0.8331274452209473, 0.8633376766443253, 0.8463296689987183, 0.8740841965675354, 0.8164715767502785, 0.8735823196172714, 0.85057908141613, 0.849128125667572, 0.8844054741859436, 0.8567698349952698, 0.8618964766263961, 0.863626557290554, 0.880225127696991, 0.8688197824954986, 0.8205472534298897, 0.8942056361436844, 0.8933631582260132, 0.8872006250619888, 0.8986439363956451, 0.8981956713199616, 0.8932678345441818, 0.8240783682465553, 0.9011371721029282, 0.8909605425596238, 0.8356550043821335, 0.891338531255722, 0.9064107291698456, 0.8700885646343232, 0.9051423447132111, 0.8909071692228318, 0.9017954440116882, 0.9083799154758453, 0.8867881525754928, 0.8782846631407738, 0.8880672401189804, 0.8976710954904557, 0.9203443348407745, 0.8823821316957474, 0.91956298828125, 0.9091285945177078, 0.9042163594961167, 0.9194302578568458, 0.8867720948457718, 0.8882025090456009, 0.9146174449920654, 0.9152227820158004, 0.9277940192222596, 0.926134141087532, 0.928022758603096, 0.9282757362127304, 0.9318092035055161, 0.9287580484151841, 0.9314583349227905, 0.9248656117916108, 0.9302801185846329, 0.9034687280654907, 0.9162555791139603, 0.9079132863879203, 0.9128447189331055, 0.9266872411966324, 0.9253842570781707, 0.9261823176145554, 0.915328311085701, 0.9363104016780853, 0.9382390999794006, 0.9265426332950593, 0.9385773061513901, 0.9357082926034928, 0.9394711235761642, 0.924957915186882, 0.9370841819047928, 0.9158416509628295, 0.945323824763298, 0.9219357913732529, 0.9367379453182221, 0.9364958359003067, 0.9424466818571091, 0.9309883514642715, 0.9071091069579125, 0.9268044222593308, 0.9439081193208695, 0.943850867152214, 0.9394477010965347, 0.8837759455442429, 0.9436569255590439, 0.9379240016937256, 0.9395981786251069, 0.94518827688694, 0.9529045461416245, 0.9476629413366318, 0.945989142537117, 0.9445664801597595, 0.9474657754898071, 0.9540503356456757, 0.936863704264164, 0.9368540564179421, 0.9543252592086792, 0.9253190984725952, 0.95105482172966, 0.9516880303621292, 0.9519224208593369, 0.9533083035945892, 0.9495210657119751, 0.9440553962588311, 0.9465776625871658, 0.9475585918426513, 0.9581728528738022, 0.9554933354854583, 0.9519693715572357, 0.9566181879043579, 0.9422977751493454, 0.9324602273702621, 0.9560289236307145, 0.9431776478886604, 0.9598069975376129, 0.9560744656324387, 0.9295889313220977, 0.9618386445045471, 0.9601827508211136, 0.9499718999862671, 0.9497005180120468, 0.9563800907135009, 0.9557600535154342, 0.9362057147026062, 0.9636267335414886, 0.950675974726677, 0.955608388543129, 0.9608525334596634, 0.9600961425304413, 0.9347663407325745, 0.9608834954500198, 0.9605723924636841, 0.9638931819200516]\n"
     ]
    }
   ],
   "source": [
    "print(ckp['ssims'])"
   ]
  },
  {
   "cell_type": "code",
   "execution_count": 8,
   "metadata": {},
   "outputs": [
    {
     "name": "stdout",
     "output_type": "stream",
     "text": [
      "[17.229408656588976, 17.875597034840865, 19.72739747721004, 20.446527603434557, 18.718130720848233, 22.330113074965308, 22.41083571271752, 21.740470402809095, 22.660847264686414, 22.65963598799858, 21.119446404467993, 23.68890282554368, 23.879250328710572, 22.540737478038448, 24.539992860418128, 22.96333918647144, 24.896076158612296, 22.308924070186254, 24.567001023521545, 23.545172103145852, 23.508582523376273, 25.51815196613808, 23.793795605878877, 23.657180224073404, 22.909210270381156, 24.185639385969022, 23.862177728926742, 23.302093571085425, 26.080545873754854, 25.060888935924385, 25.10428579099114, 25.07993393835754, 25.7638725289676, 24.932040103388815, 22.76758204095295, 25.600158136316235, 25.154842953885176, 23.13004961631038, 24.610948403606912, 26.593101974014658, 23.871236183771725, 26.889355305865777, 25.429205743505694, 26.497593949895847, 26.482269833928658, 24.81660373512382, 24.530277446156216, 24.357772312428658, 25.282663038549124, 26.852909294769255, 24.212520383149545, 27.36312318790013, 26.635768462931985, 25.326497983789793, 26.724881993735405, 25.649912930917992, 25.560435091375826, 26.480031462377518, 26.364142235938345, 27.610027292749134, 27.90675312076681, 27.906780578308624, 27.407030564423735, 28.395520016670915, 27.858633942993695, 27.799306960573183, 26.087411054169912, 27.48798904138221, 25.520767060369575, 25.833803455661386, 26.481184677940707, 26.52381777584892, 27.02710925169412, 27.49287339885985, 27.46954057996993, 26.342346448979406, 28.19557408433651, 27.985654431866433, 27.58403299060806, 28.22437673773566, 27.16004673978003, 26.956509291613184, 27.5049858271145, 28.858127616848193, 25.75449119786946, 29.05503180532248, 26.87208702928403, 28.464530935633345, 27.606700168869196, 28.341782330587893, 28.466209877826945, 26.56094430870848, 27.29176806823432, 28.44111500435097, 28.45649465710908, 27.317863740419998, 24.70030530874974, 28.34901373723528, 28.242056065207894, 27.31748958228381, 28.962915604179244, 29.7337958664022, 28.395566604086323, 29.156575534826676, 28.27570431401836, 28.543711108352202, 29.421482974825945, 27.12212455213108, 28.46805254596053, 29.821385776838948, 26.390574629029476, 29.497180083976723, 29.167692092569794, 28.7217107517374, 29.435086442468318, 28.32626651675835, 28.729698836770318, 28.361121909727, 28.082727057656086, 29.25910345012338, 29.512757885816143, 29.386824417226585, 29.344572140098947, 28.43435532195747, 27.23626818812247, 29.81188871738907, 27.61728425115532, 29.914061626741994, 29.696897313169966, 27.392720925056913, 30.255032048831367, 29.989737187374907, 28.572676642527114, 28.97014834509225, 29.080692616321546, 29.574070399987665, 27.836610511488704, 29.893097559430235, 28.139783380512096, 29.300355770149466, 29.614759009907683, 29.35908970260297, 27.222635284288412, 30.169496898978192, 29.745656396886172, 30.747523140260434]\n"
     ]
    }
   ],
   "source": [
    "print(ckp['psnrs'])"
   ]
  },
  {
   "cell_type": "code",
   "execution_count": null,
   "metadata": {},
   "outputs": [],
   "source": [
    "#######进行params和flops计算"
   ]
  },
  {
   "cell_type": "code",
   "execution_count": 1,
   "metadata": {},
   "outputs": [],
   "source": [
    "from thop import profile\n",
    "import torch"
   ]
  },
  {
   "cell_type": "code",
   "execution_count": 2,
   "metadata": {},
   "outputs": [],
   "source": [
    "from trained_models.noattention import noattention\n",
    "from trained_models.unet import dehazenet\n",
    "from trained_models.u2p import dehazenet2"
   ]
  },
  {
   "cell_type": "code",
   "execution_count": 3,
   "metadata": {},
   "outputs": [
    {
     "name": "stdout",
     "output_type": "stream",
     "text": [
      "torch.Size([1, 3, 256, 256])\n",
      "[INFO] Register count_convNd() for <class 'torch.nn.modules.conv.Conv2d'>.\n",
      "[INFO] Register zero_ops() for <class 'torch.nn.modules.pooling.MaxPool2d'>.\n",
      "[INFO] Register count_upsample() for <class 'torch.nn.modules.upsampling.Upsample'>.\n",
      "[INFO] Register count_bn() for <class 'torch.nn.modules.batchnorm.BatchNorm2d'>.\n",
      "[INFO] Register zero_ops() for <class 'torch.nn.modules.activation.ReLU'>.\n",
      "\u001b[91m[WARN] Cannot find rule for <class 'torch.nn.modules.container.Sequential'>. Treat it as zero Macs and zero Params.\u001b[00m\n",
      "\u001b[91m[WARN] Cannot find rule for <class 'trained_models.unet.conv'>. Treat it as zero Macs and zero Params.\u001b[00m\n",
      "\u001b[91m[WARN] Cannot find rule for <class 'trained_models.unet.unetblock'>. Treat it as zero Macs and zero Params.\u001b[00m\n",
      "\u001b[91m[WARN] Cannot find rule for <class 'trained_models.unet.dehazenet'>. Treat it as zero Macs and zero Params.\u001b[00m\n",
      "[INFO] Register count_convNd() for <class 'torch.nn.modules.conv.Conv2d'>.\n",
      "[INFO] Register zero_ops() for <class 'torch.nn.modules.pooling.MaxPool2d'>.\n",
      "[INFO] Register count_upsample() for <class 'torch.nn.modules.upsampling.Upsample'>.\n",
      "[INFO] Register count_bn() for <class 'torch.nn.modules.batchnorm.BatchNorm2d'>.\n",
      "[INFO] Register zero_ops() for <class 'torch.nn.modules.activation.ReLU'>.\n",
      "\u001b[91m[WARN] Cannot find rule for <class 'torch.nn.modules.container.Sequential'>. Treat it as zero Macs and zero Params.\u001b[00m\n",
      "\u001b[91m[WARN] Cannot find rule for <class 'trained_models.noattention.conv'>. Treat it as zero Macs and zero Params.\u001b[00m\n",
      "\u001b[91m[WARN] Cannot find rule for <class 'torch.nn.modules.activation.Sigmoid'>. Treat it as zero Macs and zero Params.\u001b[00m\n",
      "\u001b[91m[WARN] Cannot find rule for <class 'trained_models.noattention.attention'>. Treat it as zero Macs and zero Params.\u001b[00m\n",
      "\u001b[91m[WARN] Cannot find rule for <class 'trained_models.noattention.unetpp'>. Treat it as zero Macs and zero Params.\u001b[00m\n",
      "\u001b[91m[WARN] Cannot find rule for <class 'trained_models.noattention.noattention'>. Treat it as zero Macs and zero Params.\u001b[00m\n",
      "[INFO] Register count_convNd() for <class 'torch.nn.modules.conv.Conv2d'>.\n",
      "[INFO] Register zero_ops() for <class 'torch.nn.modules.pooling.MaxPool2d'>.\n",
      "[INFO] Register count_upsample() for <class 'torch.nn.modules.upsampling.Upsample'>.\n",
      "[INFO] Register count_bn() for <class 'torch.nn.modules.batchnorm.BatchNorm2d'>.\n",
      "[INFO] Register zero_ops() for <class 'torch.nn.modules.activation.ReLU'>.\n",
      "\u001b[91m[WARN] Cannot find rule for <class 'torch.nn.modules.container.Sequential'>. Treat it as zero Macs and zero Params.\u001b[00m\n",
      "\u001b[91m[WARN] Cannot find rule for <class 'trained_models.u2p.conv'>. Treat it as zero Macs and zero Params.\u001b[00m\n",
      "[INFO] Register count_adap_avgpool() for <class 'torch.nn.modules.pooling.AdaptiveAvgPool2d'>.\n",
      "\u001b[91m[WARN] Cannot find rule for <class 'torch.nn.modules.activation.Sigmoid'>. Treat it as zero Macs and zero Params.\u001b[00m\n",
      "\u001b[91m[WARN] Cannot find rule for <class 'trained_models.u2p.attention'>. Treat it as zero Macs and zero Params.\u001b[00m\n",
      "\u001b[91m[WARN] Cannot find rule for <class 'trained_models.u2p.unetpp'>. Treat it as zero Macs and zero Params.\u001b[00m\n",
      "\u001b[91m[WARN] Cannot find rule for <class 'trained_models.u2p.dehazenet2'>. Treat it as zero Macs and zero Params.\u001b[00m\n",
      "325.917540352 16.979779\n",
      "234.478174208 14.048739\n",
      "234.21658736 14.048973\n"
     ]
    }
   ],
   "source": [
    "model1 = dehazenet()\n",
    "#model2 = noattention()\n",
    "#model3 = dehazenet2()\n",
    "\n",
    "input = torch.rand(1,3,256,256)\n",
    "print(input.shape)\n",
    "\n",
    "flops1, params1 = profile(model1, inputs=(input, ))\n",
    "#flops2, params2 = profile(model2, inputs=(input, ))\n",
    "#flops3, params3 = profile(model3, inputs=(input, ))\n",
    "print(flops1/1e9, params1/1e6)\n",
    "#print(flops2/1e9, params2/1e6)\n",
    "#print(flops3/1e9, params3/1e6)"
   ]
  },
  {
   "cell_type": "code",
   "execution_count": null,
   "metadata": {},
   "outputs": [],
   "source": []
  },
  {
   "cell_type": "code",
   "execution_count": null,
   "metadata": {},
   "outputs": [],
   "source": []
  }
 ],
 "metadata": {
  "kernelspec": {
   "display_name": "Python [conda env:deeplab]",
   "language": "python",
   "name": "conda-env-deeplab-py"
  },
  "language_info": {
   "codemirror_mode": {
    "name": "ipython",
    "version": 3
   },
   "file_extension": ".py",
   "mimetype": "text/x-python",
   "name": "python",
   "nbconvert_exporter": "python",
   "pygments_lexer": "ipython3",
   "version": "3.6.10"
  }
 },
 "nbformat": 4,
 "nbformat_minor": 2
}
